{
 "cells": [
  {
   "cell_type": "markdown",
   "id": "47b4b135",
   "metadata": {},
   "source": [
    "## `Titanic Dataset`\n",
    "\n"
   ]
  },
  {
   "cell_type": "markdown",
   "id": "c3caeee5",
   "metadata": {},
   "source": [
    "<img src='https://cdn.britannica.com/72/153172-050-EB2F2D95/Titanic.jpg' alt=\"titanic\" width=600>"
   ]
  },
  {
   "cell_type": "markdown",
   "id": "76f1d891",
   "metadata": {},
   "source": [
    "### `Importing (numpy, pandas, missingno, os, matplotlib, seaborn) by their standard aliases`"
   ]
  },
  {
   "cell_type": "code",
   "execution_count": 64,
   "id": "dca05622",
   "metadata": {},
   "outputs": [],
   "source": [
    "import numpy as np\n",
    "import pandas as pd\n",
    "import missingno as msno\n",
    "import matplotlib.pyplot as plt\n",
    "import seaborn as sns\n",
    "%matplotlib inline\n",
    "\n",
    "## Model Selection\n",
    "from sklearn.model_selection import train_test_split\n",
    "\n",
    "## Metrics\n",
    "from sklearn.metrics import  r2_score  , accuracy_score\n",
    "\n",
    "## Preprocessing \n",
    "from sklearn.impute import SimpleImputer\n",
    "from sklearn.preprocessing import StandardScaler, LabelEncoder, OneHotEncoder\n",
    "from sklearn.pipeline import Pipeline, FeatureUnion\n",
    "from sklearn_features.transformers import DataFrameSelector\n",
    "from sklearn.utils import  shuffle\n",
    "from sklearn.model_selection import cross_val_score, cross_val_predict\n",
    "\n",
    "\n",
    "\n",
    "## Models\n",
    "from sklearn.neighbors import KNeighborsClassifier\n",
    "from sklearn.tree import DecisionTreeClassifier \n",
    "from sklearn.svm import SVC\n",
    "from sklearn.ensemble import VotingClassifier\n",
    "from sklearn.linear_model import LogisticRegression\n",
    "from sklearn.ensemble import RandomForestClassifier ,AdaBoostClassifier\n",
    "\n",
    "import xgboost as xgb\n",
    "from sklearn.ensemble import GradientBoostingClassifier, GradientBoostingRegressor      ## one for each task\n"
   ]
  },
  {
   "cell_type": "markdown",
   "id": "a9b69340",
   "metadata": {},
   "source": [
    "### `Reading the CSV File`\n"
   ]
  },
  {
   "cell_type": "code",
   "execution_count": 65,
   "id": "e5c59545",
   "metadata": {},
   "outputs": [
    {
     "data": {
      "text/html": [
       "<div>\n",
       "<style scoped>\n",
       "    .dataframe tbody tr th:only-of-type {\n",
       "        vertical-align: middle;\n",
       "    }\n",
       "\n",
       "    .dataframe tbody tr th {\n",
       "        vertical-align: top;\n",
       "    }\n",
       "\n",
       "    .dataframe thead th {\n",
       "        text-align: right;\n",
       "    }\n",
       "</style>\n",
       "<table border=\"1\" class=\"dataframe\">\n",
       "  <thead>\n",
       "    <tr style=\"text-align: right;\">\n",
       "      <th></th>\n",
       "      <th>PassengerId</th>\n",
       "      <th>Survived</th>\n",
       "      <th>Pclass</th>\n",
       "      <th>Name</th>\n",
       "      <th>Sex</th>\n",
       "      <th>Age</th>\n",
       "      <th>SibSp</th>\n",
       "      <th>Parch</th>\n",
       "      <th>Ticket</th>\n",
       "      <th>Fare</th>\n",
       "      <th>Cabin</th>\n",
       "      <th>Embarked</th>\n",
       "    </tr>\n",
       "  </thead>\n",
       "  <tbody>\n",
       "    <tr>\n",
       "      <th>0</th>\n",
       "      <td>1</td>\n",
       "      <td>0</td>\n",
       "      <td>3</td>\n",
       "      <td>Braund, Mr. Owen Harris</td>\n",
       "      <td>male</td>\n",
       "      <td>22.0</td>\n",
       "      <td>1</td>\n",
       "      <td>0</td>\n",
       "      <td>A/5 21171</td>\n",
       "      <td>7.2500</td>\n",
       "      <td>NaN</td>\n",
       "      <td>S</td>\n",
       "    </tr>\n",
       "    <tr>\n",
       "      <th>1</th>\n",
       "      <td>2</td>\n",
       "      <td>1</td>\n",
       "      <td>1</td>\n",
       "      <td>Cumings, Mrs. John Bradley (Florence Briggs Th...</td>\n",
       "      <td>female</td>\n",
       "      <td>38.0</td>\n",
       "      <td>1</td>\n",
       "      <td>0</td>\n",
       "      <td>PC 17599</td>\n",
       "      <td>71.2833</td>\n",
       "      <td>C85</td>\n",
       "      <td>C</td>\n",
       "    </tr>\n",
       "    <tr>\n",
       "      <th>2</th>\n",
       "      <td>3</td>\n",
       "      <td>1</td>\n",
       "      <td>3</td>\n",
       "      <td>Heikkinen, Miss. Laina</td>\n",
       "      <td>female</td>\n",
       "      <td>26.0</td>\n",
       "      <td>0</td>\n",
       "      <td>0</td>\n",
       "      <td>STON/O2. 3101282</td>\n",
       "      <td>7.9250</td>\n",
       "      <td>NaN</td>\n",
       "      <td>S</td>\n",
       "    </tr>\n",
       "    <tr>\n",
       "      <th>3</th>\n",
       "      <td>4</td>\n",
       "      <td>1</td>\n",
       "      <td>1</td>\n",
       "      <td>Futrelle, Mrs. Jacques Heath (Lily May Peel)</td>\n",
       "      <td>female</td>\n",
       "      <td>35.0</td>\n",
       "      <td>1</td>\n",
       "      <td>0</td>\n",
       "      <td>113803</td>\n",
       "      <td>53.1000</td>\n",
       "      <td>C123</td>\n",
       "      <td>S</td>\n",
       "    </tr>\n",
       "    <tr>\n",
       "      <th>4</th>\n",
       "      <td>5</td>\n",
       "      <td>0</td>\n",
       "      <td>3</td>\n",
       "      <td>Allen, Mr. William Henry</td>\n",
       "      <td>male</td>\n",
       "      <td>35.0</td>\n",
       "      <td>0</td>\n",
       "      <td>0</td>\n",
       "      <td>373450</td>\n",
       "      <td>8.0500</td>\n",
       "      <td>NaN</td>\n",
       "      <td>S</td>\n",
       "    </tr>\n",
       "  </tbody>\n",
       "</table>\n",
       "</div>"
      ],
      "text/plain": [
       "   PassengerId  Survived  Pclass  \\\n",
       "0            1         0       3   \n",
       "1            2         1       1   \n",
       "2            3         1       3   \n",
       "3            4         1       1   \n",
       "4            5         0       3   \n",
       "\n",
       "                                                Name     Sex   Age  SibSp  \\\n",
       "0                            Braund, Mr. Owen Harris    male  22.0      1   \n",
       "1  Cumings, Mrs. John Bradley (Florence Briggs Th...  female  38.0      1   \n",
       "2                             Heikkinen, Miss. Laina  female  26.0      0   \n",
       "3       Futrelle, Mrs. Jacques Heath (Lily May Peel)  female  35.0      1   \n",
       "4                           Allen, Mr. William Henry    male  35.0      0   \n",
       "\n",
       "   Parch            Ticket     Fare Cabin Embarked  \n",
       "0      0         A/5 21171   7.2500   NaN        S  \n",
       "1      0          PC 17599  71.2833   C85        C  \n",
       "2      0  STON/O2. 3101282   7.9250   NaN        S  \n",
       "3      0            113803  53.1000  C123        S  \n",
       "4      0            373450   8.0500   NaN        S  "
      ]
     },
     "execution_count": 65,
     "metadata": {},
     "output_type": "execute_result"
    }
   ],
   "source": [
    "## Read the CSV File (titanic.csv) \n",
    "df_titanic = pd.read_csv(r\"D:\\xxxxxxx\\AI Diploma from (AI Eagles)‏\\phase one\\13- Project_Titanic‏\\titanic.csv\")\n",
    "df_titanic.head()"
   ]
  },
  {
   "cell_type": "markdown",
   "id": "f527af74",
   "metadata": {},
   "source": [
    "### `For more Information, Check the below Table`"
   ]
  },
  {
   "attachments": {
    "image.png": {
     "image/png": "[encoded data removed]"
    }
   },
   "cell_type": "markdown",
   "id": "e2239b0b",
   "metadata": {},
   "source": [
    "![image.png](attachment:image.png)"
   ]
  },
  {
   "cell_type": "markdown",
   "id": "af807927",
   "metadata": {},
   "source": [
    "### `Checking the info and statistics of this Dataset`\n"
   ]
  },
  {
   "cell_type": "code",
   "execution_count": 66,
   "id": "a275bccc",
   "metadata": {},
   "outputs": [
    {
     "name": "stdout",
     "output_type": "stream",
     "text": [
      "<class 'pandas.core.frame.DataFrame'>\n",
      "RangeIndex: 891 entries, 0 to 890\n",
      "Data columns (total 12 columns):\n",
      " #   Column       Non-Null Count  Dtype  \n",
      "---  ------       --------------  -----  \n",
      " 0   PassengerId  891 non-null    int64  \n",
      " 1   Survived     891 non-null    int64  \n",
      " 2   Pclass       891 non-null    int64  \n",
      " 3   Name         891 non-null    object \n",
      " 4   Sex          891 non-null    object \n",
      " 5   Age          714 non-null    float64\n",
      " 6   SibSp        891 non-null    int64  \n",
      " 7   Parch        891 non-null    int64  \n",
      " 8   Ticket       891 non-null    object \n",
      " 9   Fare         891 non-null    float64\n",
      " 10  Cabin        204 non-null    object \n",
      " 11  Embarked     889 non-null    object \n",
      "dtypes: float64(2), int64(5), object(5)\n",
      "memory usage: 83.7+ KB\n"
     ]
    }
   ],
   "source": [
    "df_titanic.info()"
   ]
  },
  {
   "cell_type": "code",
   "execution_count": 67,
   "id": "19d8b548",
   "metadata": {},
   "outputs": [
    {
     "data": {
      "text/html": [
       "<div>\n",
       "<style scoped>\n",
       "    .dataframe tbody tr th:only-of-type {\n",
       "        vertical-align: middle;\n",
       "    }\n",
       "\n",
       "    .dataframe tbody tr th {\n",
       "        vertical-align: top;\n",
       "    }\n",
       "\n",
       "    .dataframe thead th {\n",
       "        text-align: right;\n",
       "    }\n",
       "</style>\n",
       "<table border=\"1\" class=\"dataframe\">\n",
       "  <thead>\n",
       "    <tr style=\"text-align: right;\">\n",
       "      <th></th>\n",
       "      <th>PassengerId</th>\n",
       "      <th>Survived</th>\n",
       "      <th>Pclass</th>\n",
       "      <th>Age</th>\n",
       "      <th>SibSp</th>\n",
       "      <th>Parch</th>\n",
       "      <th>Fare</th>\n",
       "    </tr>\n",
       "  </thead>\n",
       "  <tbody>\n",
       "    <tr>\n",
       "      <th>count</th>\n",
       "      <td>891.000000</td>\n",
       "      <td>891.000000</td>\n",
       "      <td>891.000000</td>\n",
       "      <td>714.000000</td>\n",
       "      <td>891.000000</td>\n",
       "      <td>891.000000</td>\n",
       "      <td>891.000000</td>\n",
       "    </tr>\n",
       "    <tr>\n",
       "      <th>mean</th>\n",
       "      <td>446.000000</td>\n",
       "      <td>0.383838</td>\n",
       "      <td>2.308642</td>\n",
       "      <td>29.699118</td>\n",
       "      <td>0.523008</td>\n",
       "      <td>0.381594</td>\n",
       "      <td>32.204208</td>\n",
       "    </tr>\n",
       "    <tr>\n",
       "      <th>std</th>\n",
       "      <td>257.353842</td>\n",
       "      <td>0.486592</td>\n",
       "      <td>0.836071</td>\n",
       "      <td>14.526497</td>\n",
       "      <td>1.102743</td>\n",
       "      <td>0.806057</td>\n",
       "      <td>49.693429</td>\n",
       "    </tr>\n",
       "    <tr>\n",
       "      <th>min</th>\n",
       "      <td>1.000000</td>\n",
       "      <td>0.000000</td>\n",
       "      <td>1.000000</td>\n",
       "      <td>0.420000</td>\n",
       "      <td>0.000000</td>\n",
       "      <td>0.000000</td>\n",
       "      <td>0.000000</td>\n",
       "    </tr>\n",
       "    <tr>\n",
       "      <th>25%</th>\n",
       "      <td>223.500000</td>\n",
       "      <td>0.000000</td>\n",
       "      <td>2.000000</td>\n",
       "      <td>20.125000</td>\n",
       "      <td>0.000000</td>\n",
       "      <td>0.000000</td>\n",
       "      <td>7.910400</td>\n",
       "    </tr>\n",
       "    <tr>\n",
       "      <th>50%</th>\n",
       "      <td>446.000000</td>\n",
       "      <td>0.000000</td>\n",
       "      <td>3.000000</td>\n",
       "      <td>28.000000</td>\n",
       "      <td>0.000000</td>\n",
       "      <td>0.000000</td>\n",
       "      <td>14.454200</td>\n",
       "    </tr>\n",
       "    <tr>\n",
       "      <th>75%</th>\n",
       "      <td>668.500000</td>\n",
       "      <td>1.000000</td>\n",
       "      <td>3.000000</td>\n",
       "      <td>38.000000</td>\n",
       "      <td>1.000000</td>\n",
       "      <td>0.000000</td>\n",
       "      <td>31.000000</td>\n",
       "    </tr>\n",
       "    <tr>\n",
       "      <th>max</th>\n",
       "      <td>891.000000</td>\n",
       "      <td>1.000000</td>\n",
       "      <td>3.000000</td>\n",
       "      <td>80.000000</td>\n",
       "      <td>8.000000</td>\n",
       "      <td>6.000000</td>\n",
       "      <td>512.329200</td>\n",
       "    </tr>\n",
       "  </tbody>\n",
       "</table>\n",
       "</div>"
      ],
      "text/plain": [
       "       PassengerId    Survived      Pclass         Age       SibSp  \\\n",
       "count   891.000000  891.000000  891.000000  714.000000  891.000000   \n",
       "mean    446.000000    0.383838    2.308642   29.699118    0.523008   \n",
       "std     257.353842    0.486592    0.836071   14.526497    1.102743   \n",
       "min       1.000000    0.000000    1.000000    0.420000    0.000000   \n",
       "25%     223.500000    0.000000    2.000000   20.125000    0.000000   \n",
       "50%     446.000000    0.000000    3.000000   28.000000    0.000000   \n",
       "75%     668.500000    1.000000    3.000000   38.000000    1.000000   \n",
       "max     891.000000    1.000000    3.000000   80.000000    8.000000   \n",
       "\n",
       "            Parch        Fare  \n",
       "count  891.000000  891.000000  \n",
       "mean     0.381594   32.204208  \n",
       "std      0.806057   49.693429  \n",
       "min      0.000000    0.000000  \n",
       "25%      0.000000    7.910400  \n",
       "50%      0.000000   14.454200  \n",
       "75%      0.000000   31.000000  \n",
       "max      6.000000  512.329200  "
      ]
     },
     "execution_count": 67,
     "metadata": {},
     "output_type": "execute_result"
    }
   ],
   "source": [
    "## getting some statistics for numerical variables for this Dataset\n",
    "df_titanic.describe()"
   ]
  },
  {
   "cell_type": "code",
   "execution_count": 68,
   "id": "ec2c8963",
   "metadata": {},
   "outputs": [
    {
     "data": {
      "text/plain": [
       "<Axes: >"
      ]
     },
     "execution_count": 68,
     "metadata": {},
     "output_type": "execute_result"
    },
    {
     "data": {
      "image/png": "[encoded data removed]",
      "text/plain": [
       "<Figure size 2500x1000 with 2 Axes>"
      ]
     },
     "metadata": {},
     "output_type": "display_data"
    }
   ],
   "source": [
    "## useing missingno to check for nulls.\n",
    "msno.matrix(df_titanic)"
   ]
  },
  {
   "cell_type": "code",
   "execution_count": 69,
   "id": "ce0c155a",
   "metadata": {},
   "outputs": [
    {
     "data": {
      "image/png": "[encoded data removed]",
      "text/plain": [
       "<Figure size 640x480 with 1 Axes>"
      ]
     },
     "metadata": {},
     "output_type": "display_data"
    }
   ],
   "source": [
    "## Plotting the nulls as barplot \n",
    "df_titanic.isna().sum().plot(kind = 'barh')\n",
    "plt.show()"
   ]
  },
  {
   "cell_type": "markdown",
   "id": "47148d4d",
   "metadata": {},
   "source": [
    "### `Droping the (Cabin) Column, as it full of null values`\n"
   ]
  },
  {
   "cell_type": "code",
   "execution_count": 73,
   "id": "f845e2c6",
   "metadata": {},
   "outputs": [
    {
     "data": {
      "text/html": [
       "<div>\n",
       "<style scoped>\n",
       "    .dataframe tbody tr th:only-of-type {\n",
       "        vertical-align: middle;\n",
       "    }\n",
       "\n",
       "    .dataframe tbody tr th {\n",
       "        vertical-align: top;\n",
       "    }\n",
       "\n",
       "    .dataframe thead th {\n",
       "        text-align: right;\n",
       "    }\n",
       "</style>\n",
       "<table border=\"1\" class=\"dataframe\">\n",
       "  <thead>\n",
       "    <tr style=\"text-align: right;\">\n",
       "      <th></th>\n",
       "      <th>PassengerId</th>\n",
       "      <th>Survived</th>\n",
       "      <th>Pclass</th>\n",
       "      <th>Name</th>\n",
       "      <th>Sex</th>\n",
       "      <th>Age</th>\n",
       "      <th>SibSp</th>\n",
       "      <th>Parch</th>\n",
       "      <th>Ticket</th>\n",
       "      <th>Fare</th>\n",
       "      <th>Embarked</th>\n",
       "    </tr>\n",
       "  </thead>\n",
       "  <tbody>\n",
       "    <tr>\n",
       "      <th>0</th>\n",
       "      <td>1</td>\n",
       "      <td>0</td>\n",
       "      <td>3</td>\n",
       "      <td>Braund, Mr. Owen Harris</td>\n",
       "      <td>male</td>\n",
       "      <td>22.0</td>\n",
       "      <td>1</td>\n",
       "      <td>0</td>\n",
       "      <td>A/5 21171</td>\n",
       "      <td>7.2500</td>\n",
       "      <td>S</td>\n",
       "    </tr>\n",
       "    <tr>\n",
       "      <th>1</th>\n",
       "      <td>2</td>\n",
       "      <td>1</td>\n",
       "      <td>1</td>\n",
       "      <td>Cumings, Mrs. John Bradley (Florence Briggs Th...</td>\n",
       "      <td>female</td>\n",
       "      <td>38.0</td>\n",
       "      <td>1</td>\n",
       "      <td>0</td>\n",
       "      <td>PC 17599</td>\n",
       "      <td>71.2833</td>\n",
       "      <td>C</td>\n",
       "    </tr>\n",
       "    <tr>\n",
       "      <th>2</th>\n",
       "      <td>3</td>\n",
       "      <td>1</td>\n",
       "      <td>3</td>\n",
       "      <td>Heikkinen, Miss. Laina</td>\n",
       "      <td>female</td>\n",
       "      <td>26.0</td>\n",
       "      <td>0</td>\n",
       "      <td>0</td>\n",
       "      <td>STON/O2. 3101282</td>\n",
       "      <td>7.9250</td>\n",
       "      <td>S</td>\n",
       "    </tr>\n",
       "    <tr>\n",
       "      <th>3</th>\n",
       "      <td>4</td>\n",
       "      <td>1</td>\n",
       "      <td>1</td>\n",
       "      <td>Futrelle, Mrs. Jacques Heath (Lily May Peel)</td>\n",
       "      <td>female</td>\n",
       "      <td>35.0</td>\n",
       "      <td>1</td>\n",
       "      <td>0</td>\n",
       "      <td>113803</td>\n",
       "      <td>53.1000</td>\n",
       "      <td>S</td>\n",
       "    </tr>\n",
       "    <tr>\n",
       "      <th>4</th>\n",
       "      <td>5</td>\n",
       "      <td>0</td>\n",
       "      <td>3</td>\n",
       "      <td>Allen, Mr. William Henry</td>\n",
       "      <td>male</td>\n",
       "      <td>35.0</td>\n",
       "      <td>0</td>\n",
       "      <td>0</td>\n",
       "      <td>373450</td>\n",
       "      <td>8.0500</td>\n",
       "      <td>S</td>\n",
       "    </tr>\n",
       "  </tbody>\n",
       "</table>\n",
       "</div>"
      ],
      "text/plain": [
       "   PassengerId  Survived  Pclass  \\\n",
       "0            1         0       3   \n",
       "1            2         1       1   \n",
       "2            3         1       3   \n",
       "3            4         1       1   \n",
       "4            5         0       3   \n",
       "\n",
       "                                                Name     Sex   Age  SibSp  \\\n",
       "0                            Braund, Mr. Owen Harris    male  22.0      1   \n",
       "1  Cumings, Mrs. John Bradley (Florence Briggs Th...  female  38.0      1   \n",
       "2                             Heikkinen, Miss. Laina  female  26.0      0   \n",
       "3       Futrelle, Mrs. Jacques Heath (Lily May Peel)  female  35.0      1   \n",
       "4                           Allen, Mr. William Henry    male  35.0      0   \n",
       "\n",
       "   Parch            Ticket     Fare Embarked  \n",
       "0      0         A/5 21171   7.2500        S  \n",
       "1      0          PC 17599  71.2833        C  \n",
       "2      0  STON/O2. 3101282   7.9250        S  \n",
       "3      0            113803  53.1000        S  \n",
       "4      0            373450   8.0500        S  "
      ]
     },
     "execution_count": 73,
     "metadata": {},
     "output_type": "execute_result"
    }
   ],
   "source": [
    "## Dropping the (Cabin) column\n",
    "df_titanic.drop(columns='Cabin' , inplace = True)\n",
    "df_titanic.head()"
   ]
  },
  {
   "cell_type": "markdown",
   "id": "83b00801",
   "metadata": {},
   "source": [
    "### `Creating a CountPlot on (Sex) Column`\n"
   ]
  },
  {
   "cell_type": "code",
   "execution_count": 74,
   "id": "81634b29",
   "metadata": {},
   "outputs": [
    {
     "data": {
      "image/png": "[encoded data removed]",
      "text/plain": [
       "<Figure size 640x480 with 1 Axes>"
      ]
     },
     "metadata": {},
     "output_type": "display_data"
    }
   ],
   "source": [
    "## Creating a countplot of (Sex) column to check the distribution of Sex in Dataset\n",
    "sns.countplot(data = df_titanic , x = 'Sex')\n",
    "plt.title('Sex Count');\n",
    "\n"
   ]
  },
  {
   "cell_type": "markdown",
   "id": "410c9821",
   "metadata": {},
   "source": [
    "### `Creating a CountPlot on (Survived) Column`\n",
    "* `1 means yes 'survived', 0 means no 'not survived'`"
   ]
  },
  {
   "cell_type": "code",
   "execution_count": 75,
   "id": "f7422f4a",
   "metadata": {},
   "outputs": [
    {
     "data": {
      "image/png": "[encoded data removed]",
      "text/plain": [
       "<Figure size 640x480 with 1 Axes>"
      ]
     },
     "metadata": {},
     "output_type": "display_data"
    }
   ],
   "source": [
    "## Create a countplot of (Survived) column to check the distribution of Survived in Dataset\n",
    "sns.countplot(data = df_titanic , x = 'Survived')\n",
    "plt.title('Survived Numbers')\n",
    "plt.show()"
   ]
  },
  {
   "cell_type": "markdown",
   "id": "d843df03",
   "metadata": {},
   "source": [
    "### `Going Deeper, Let's drop (PassengerId, Name, Ticket , Embarked, Fare)`\n",
    "* `these columns are useless in analysis and ML Models, so Let's drop them`"
   ]
  },
  {
   "cell_type": "code",
   "execution_count": 76,
   "id": "4a712ba5",
   "metadata": {},
   "outputs": [
    {
     "data": {
      "text/html": [
       "<div>\n",
       "<style scoped>\n",
       "    .dataframe tbody tr th:only-of-type {\n",
       "        vertical-align: middle;\n",
       "    }\n",
       "\n",
       "    .dataframe tbody tr th {\n",
       "        vertical-align: top;\n",
       "    }\n",
       "\n",
       "    .dataframe thead th {\n",
       "        text-align: right;\n",
       "    }\n",
       "</style>\n",
       "<table border=\"1\" class=\"dataframe\">\n",
       "  <thead>\n",
       "    <tr style=\"text-align: right;\">\n",
       "      <th></th>\n",
       "      <th>Survived</th>\n",
       "      <th>Pclass</th>\n",
       "      <th>Sex</th>\n",
       "      <th>Age</th>\n",
       "      <th>SibSp</th>\n",
       "      <th>Parch</th>\n",
       "    </tr>\n",
       "  </thead>\n",
       "  <tbody>\n",
       "    <tr>\n",
       "      <th>0</th>\n",
       "      <td>0</td>\n",
       "      <td>3</td>\n",
       "      <td>male</td>\n",
       "      <td>22.0</td>\n",
       "      <td>1</td>\n",
       "      <td>0</td>\n",
       "    </tr>\n",
       "    <tr>\n",
       "      <th>1</th>\n",
       "      <td>1</td>\n",
       "      <td>1</td>\n",
       "      <td>female</td>\n",
       "      <td>38.0</td>\n",
       "      <td>1</td>\n",
       "      <td>0</td>\n",
       "    </tr>\n",
       "    <tr>\n",
       "      <th>2</th>\n",
       "      <td>1</td>\n",
       "      <td>3</td>\n",
       "      <td>female</td>\n",
       "      <td>26.0</td>\n",
       "      <td>0</td>\n",
       "      <td>0</td>\n",
       "    </tr>\n",
       "    <tr>\n",
       "      <th>3</th>\n",
       "      <td>1</td>\n",
       "      <td>1</td>\n",
       "      <td>female</td>\n",
       "      <td>35.0</td>\n",
       "      <td>1</td>\n",
       "      <td>0</td>\n",
       "    </tr>\n",
       "    <tr>\n",
       "      <th>4</th>\n",
       "      <td>0</td>\n",
       "      <td>3</td>\n",
       "      <td>male</td>\n",
       "      <td>35.0</td>\n",
       "      <td>0</td>\n",
       "      <td>0</td>\n",
       "    </tr>\n",
       "  </tbody>\n",
       "</table>\n",
       "</div>"
      ],
      "text/plain": [
       "   Survived  Pclass     Sex   Age  SibSp  Parch\n",
       "0         0       3    male  22.0      1      0\n",
       "1         1       1  female  38.0      1      0\n",
       "2         1       3  female  26.0      0      0\n",
       "3         1       1  female  35.0      1      0\n",
       "4         0       3    male  35.0      0      0"
      ]
     },
     "execution_count": 76,
     "metadata": {},
     "output_type": "execute_result"
    }
   ],
   "source": [
    "## Droping some uselsss columns \n",
    "df_titanic.drop(columns={'PassengerId' , 'Name' , 'Ticket' , 'Embarked','Fare'}, inplace= True)\n",
    "df_titanic.head()"
   ]
  },
  {
   "cell_type": "markdown",
   "id": "d9419993",
   "metadata": {},
   "source": [
    "### `Getting Histogram of (Age) Column`\n",
    "\n",
    "* `Let's make bins=25`"
   ]
  },
  {
   "cell_type": "code",
   "execution_count": 77,
   "id": "637eaac5",
   "metadata": {},
   "outputs": [
    {
     "data": {
      "image/png": "[encoded data removed]",
      "text/plain": [
       "<Figure size 640x480 with 1 Axes>"
      ]
     },
     "metadata": {},
     "output_type": "display_data"
    }
   ],
   "source": [
    "## Histogram of Age column using bins=25\n",
    "sns.histplot(data = df_titanic , x = 'Age' , bins = 25 ,label = 'Histogram' )\n",
    "plt.text(x = 40 ,y = 40 ,s ='Mean-->')\n",
    "plt.text(x = 50 ,y = 40 ,s =np.round(df_titanic['Age'].mean(),2))\n",
    "\n",
    "plt.text(x = 60 ,y = 40 ,s ='Median-->')\n",
    "plt.text(x = 73 ,y = 40 ,s =np.round(df_titanic['Age'].median(),2))\n",
    "\n",
    "plt.axvline(x = 29.64 ,color = 'r' ,label = 'Mean')\n",
    "plt.axvline(x = 28.0 ,color = 'orange' , label = 'Median')\n",
    "plt.legend()\n",
    "plt.show()"
   ]
  },
  {
   "cell_type": "markdown",
   "id": "4d033b8e",
   "metadata": {},
   "source": [
    "### `(Age) Column contains null values, Let's impute using (median)`"
   ]
  },
  {
   "cell_type": "code",
   "execution_count": 78,
   "id": "e1cf3a7e",
   "metadata": {},
   "outputs": [
    {
     "data": {
      "text/html": [
       "<div>\n",
       "<style scoped>\n",
       "    .dataframe tbody tr th:only-of-type {\n",
       "        vertical-align: middle;\n",
       "    }\n",
       "\n",
       "    .dataframe tbody tr th {\n",
       "        vertical-align: top;\n",
       "    }\n",
       "\n",
       "    .dataframe thead th {\n",
       "        text-align: right;\n",
       "    }\n",
       "</style>\n",
       "<table border=\"1\" class=\"dataframe\">\n",
       "  <thead>\n",
       "    <tr style=\"text-align: right;\">\n",
       "      <th></th>\n",
       "      <th>Survived</th>\n",
       "      <th>Pclass</th>\n",
       "      <th>Sex</th>\n",
       "      <th>Age</th>\n",
       "      <th>SibSp</th>\n",
       "      <th>Parch</th>\n",
       "    </tr>\n",
       "  </thead>\n",
       "  <tbody>\n",
       "    <tr>\n",
       "      <th>0</th>\n",
       "      <td>0</td>\n",
       "      <td>3</td>\n",
       "      <td>male</td>\n",
       "      <td>22.0</td>\n",
       "      <td>1</td>\n",
       "      <td>0</td>\n",
       "    </tr>\n",
       "    <tr>\n",
       "      <th>1</th>\n",
       "      <td>1</td>\n",
       "      <td>1</td>\n",
       "      <td>female</td>\n",
       "      <td>38.0</td>\n",
       "      <td>1</td>\n",
       "      <td>0</td>\n",
       "    </tr>\n",
       "    <tr>\n",
       "      <th>2</th>\n",
       "      <td>1</td>\n",
       "      <td>3</td>\n",
       "      <td>female</td>\n",
       "      <td>26.0</td>\n",
       "      <td>0</td>\n",
       "      <td>0</td>\n",
       "    </tr>\n",
       "    <tr>\n",
       "      <th>3</th>\n",
       "      <td>1</td>\n",
       "      <td>1</td>\n",
       "      <td>female</td>\n",
       "      <td>35.0</td>\n",
       "      <td>1</td>\n",
       "      <td>0</td>\n",
       "    </tr>\n",
       "    <tr>\n",
       "      <th>4</th>\n",
       "      <td>0</td>\n",
       "      <td>3</td>\n",
       "      <td>male</td>\n",
       "      <td>35.0</td>\n",
       "      <td>0</td>\n",
       "      <td>0</td>\n",
       "    </tr>\n",
       "  </tbody>\n",
       "</table>\n",
       "</div>"
      ],
      "text/plain": [
       "   Survived  Pclass     Sex   Age  SibSp  Parch\n",
       "0         0       3    male  22.0      1      0\n",
       "1         1       1  female  38.0      1      0\n",
       "2         1       3  female  26.0      0      0\n",
       "3         1       1  female  35.0      1      0\n",
       "4         0       3    male  35.0      0      0"
      ]
     },
     "execution_count": 78,
     "metadata": {},
     "output_type": "execute_result"
    }
   ],
   "source": [
    "## Imputing the DF for Age column using median \n",
    "df_titanic['Age'] = df_titanic['Age'].fillna(value = df_titanic['Age'].median())\n",
    "df_titanic.head()"
   ]
  },
  {
   "cell_type": "code",
   "execution_count": 79,
   "id": "bf4696bc",
   "metadata": {},
   "outputs": [
    {
     "data": {
      "text/plain": [
       "''"
      ]
     },
     "execution_count": 79,
     "metadata": {},
     "output_type": "execute_result"
    },
    {
     "data": {
      "image/png": "[encoded data removed]",
      "text/plain": [
       "<Figure size 640x480 with 1 Axes>"
      ]
     },
     "metadata": {},
     "output_type": "display_data"
    }
   ],
   "source": [
    "## for Pclass column \n",
    "sns.countplot(data = df_titanic , x = df_titanic['Pclass'])\n",
    "plt.title('Pclass Frequncy')\n",
    "\n",
    ";"
   ]
  },
  {
   "cell_type": "code",
   "execution_count": 80,
   "id": "bcad76ab",
   "metadata": {},
   "outputs": [
    {
     "data": {
      "image/png": "[encoded data removed]",
      "text/plain": [
       "<Figure size 640x480 with 1 Axes>"
      ]
     },
     "metadata": {},
     "output_type": "display_data"
    }
   ],
   "source": [
    "## for Parch column \n",
    "sns.countplot(data = df_titanic , x = df_titanic['Parch'])\n",
    "plt.title('Parch Frequncy');"
   ]
  },
  {
   "cell_type": "markdown",
   "id": "1b1d19bc",
   "metadata": {},
   "source": [
    "### `Let's go further by creating (bivariate visualization, multivariate visualization)`\n"
   ]
  },
  {
   "cell_type": "code",
   "execution_count": 81,
   "id": "1957cb6b",
   "metadata": {},
   "outputs": [
    {
     "data": {
      "image/png": "[encoded data removed]",
      "text/plain": [
       "<Figure size 640x480 with 1 Axes>"
      ]
     },
     "metadata": {},
     "output_type": "display_data"
    }
   ],
   "source": [
    "## Create boxplot for Age column, taking into consideration Sex\n",
    "sns.boxplot(data = df_titanic , x = 'Sex' , y = 'Age')\n",
    "plt.title('The Distribution Of Age By sex');"
   ]
  },
  {
   "cell_type": "code",
   "execution_count": 82,
   "id": "113e5b5c",
   "metadata": {},
   "outputs": [
    {
     "data": {
      "image/png": "[encoded data removed]",
      "text/plain": [
       "<Figure size 1200x1000 with 1 Axes>"
      ]
     },
     "metadata": {},
     "output_type": "display_data"
    }
   ],
   "source": [
    "## Create boxplot for Age column, taking into consideration Sex , and also (Survived) as hue .\n",
    "plt.figure(figsize=(12,10))\n",
    "sns.boxplot(data = df_titanic , x = 'Sex' , y = 'Age' ,hue = 'Survived')\n",
    "plt.title('The Boxplot Between Age & Sex with respect to Survived');"
   ]
  },
  {
   "cell_type": "markdown",
   "id": "2debf38b",
   "metadata": {},
   "source": [
    "## `Shuffling the Data`"
   ]
  },
  {
   "cell_type": "code",
   "execution_count": 83,
   "id": "b5538fd1",
   "metadata": {},
   "outputs": [
    {
     "data": {
      "text/html": [
       "<div>\n",
       "<style scoped>\n",
       "    .dataframe tbody tr th:only-of-type {\n",
       "        vertical-align: middle;\n",
       "    }\n",
       "\n",
       "    .dataframe tbody tr th {\n",
       "        vertical-align: top;\n",
       "    }\n",
       "\n",
       "    .dataframe thead th {\n",
       "        text-align: right;\n",
       "    }\n",
       "</style>\n",
       "<table border=\"1\" class=\"dataframe\">\n",
       "  <thead>\n",
       "    <tr style=\"text-align: right;\">\n",
       "      <th></th>\n",
       "      <th>Survived</th>\n",
       "      <th>Pclass</th>\n",
       "      <th>Sex</th>\n",
       "      <th>Age</th>\n",
       "      <th>SibSp</th>\n",
       "      <th>Parch</th>\n",
       "    </tr>\n",
       "  </thead>\n",
       "  <tbody>\n",
       "    <tr>\n",
       "      <th>456</th>\n",
       "      <td>0</td>\n",
       "      <td>1</td>\n",
       "      <td>male</td>\n",
       "      <td>65.0</td>\n",
       "      <td>0</td>\n",
       "      <td>0</td>\n",
       "    </tr>\n",
       "    <tr>\n",
       "      <th>351</th>\n",
       "      <td>0</td>\n",
       "      <td>1</td>\n",
       "      <td>male</td>\n",
       "      <td>28.0</td>\n",
       "      <td>0</td>\n",
       "      <td>0</td>\n",
       "    </tr>\n",
       "    <tr>\n",
       "      <th>173</th>\n",
       "      <td>0</td>\n",
       "      <td>3</td>\n",
       "      <td>male</td>\n",
       "      <td>21.0</td>\n",
       "      <td>0</td>\n",
       "      <td>0</td>\n",
       "    </tr>\n",
       "    <tr>\n",
       "      <th>671</th>\n",
       "      <td>0</td>\n",
       "      <td>1</td>\n",
       "      <td>male</td>\n",
       "      <td>31.0</td>\n",
       "      <td>1</td>\n",
       "      <td>0</td>\n",
       "    </tr>\n",
       "    <tr>\n",
       "      <th>836</th>\n",
       "      <td>0</td>\n",
       "      <td>3</td>\n",
       "      <td>male</td>\n",
       "      <td>21.0</td>\n",
       "      <td>0</td>\n",
       "      <td>0</td>\n",
       "    </tr>\n",
       "  </tbody>\n",
       "</table>\n",
       "</div>"
      ],
      "text/plain": [
       "     Survived  Pclass   Sex   Age  SibSp  Parch\n",
       "456         0       1  male  65.0      0      0\n",
       "351         0       1  male  28.0      0      0\n",
       "173         0       3  male  21.0      0      0\n",
       "671         0       1  male  31.0      1      0\n",
       "836         0       3  male  21.0      0      0"
      ]
     },
     "execution_count": 83,
     "metadata": {},
     "output_type": "execute_result"
    }
   ],
   "source": [
    "df_titanic = shuffle(df_titanic , random_state= 12)\n",
    "df_titanic.head()"
   ]
  },
  {
   "cell_type": "markdown",
   "id": "9458cf82",
   "metadata": {},
   "source": [
    "### `Slice the DF into two subsets`\n",
    "* `One of these subset is containing only (Survived) Column, with variable name (y_train)`\n",
    "* `The other one contains the last DF (df_titanic) with the last processing and without column (Survived), with variable name (X_train)`"
   ]
  },
  {
   "cell_type": "code",
   "execution_count": 84,
   "id": "ce9b9bd0",
   "metadata": {},
   "outputs": [],
   "source": [
    "## Getting only the (Survived) Column --> Assignning the variable name to be (y_train)\n",
    "y_train = df_titanic['Survived']\n",
    "X_train = df_titanic.drop(columns='Survived')"
   ]
  },
  {
   "cell_type": "code",
   "execution_count": 85,
   "id": "8c771806",
   "metadata": {},
   "outputs": [
    {
     "data": {
      "text/html": [
       "<div>\n",
       "<style scoped>\n",
       "    .dataframe tbody tr th:only-of-type {\n",
       "        vertical-align: middle;\n",
       "    }\n",
       "\n",
       "    .dataframe tbody tr th {\n",
       "        vertical-align: top;\n",
       "    }\n",
       "\n",
       "    .dataframe thead th {\n",
       "        text-align: right;\n",
       "    }\n",
       "</style>\n",
       "<table border=\"1\" class=\"dataframe\">\n",
       "  <thead>\n",
       "    <tr style=\"text-align: right;\">\n",
       "      <th></th>\n",
       "      <th>Pclass</th>\n",
       "      <th>Sex</th>\n",
       "      <th>Age</th>\n",
       "      <th>SibSp</th>\n",
       "      <th>Parch</th>\n",
       "    </tr>\n",
       "  </thead>\n",
       "  <tbody>\n",
       "    <tr>\n",
       "      <th>456</th>\n",
       "      <td>1</td>\n",
       "      <td>male</td>\n",
       "      <td>65.0</td>\n",
       "      <td>0</td>\n",
       "      <td>0</td>\n",
       "    </tr>\n",
       "    <tr>\n",
       "      <th>351</th>\n",
       "      <td>1</td>\n",
       "      <td>male</td>\n",
       "      <td>28.0</td>\n",
       "      <td>0</td>\n",
       "      <td>0</td>\n",
       "    </tr>\n",
       "    <tr>\n",
       "      <th>173</th>\n",
       "      <td>3</td>\n",
       "      <td>male</td>\n",
       "      <td>21.0</td>\n",
       "      <td>0</td>\n",
       "      <td>0</td>\n",
       "    </tr>\n",
       "    <tr>\n",
       "      <th>671</th>\n",
       "      <td>1</td>\n",
       "      <td>male</td>\n",
       "      <td>31.0</td>\n",
       "      <td>1</td>\n",
       "      <td>0</td>\n",
       "    </tr>\n",
       "    <tr>\n",
       "      <th>836</th>\n",
       "      <td>3</td>\n",
       "      <td>male</td>\n",
       "      <td>21.0</td>\n",
       "      <td>0</td>\n",
       "      <td>0</td>\n",
       "    </tr>\n",
       "  </tbody>\n",
       "</table>\n",
       "</div>"
      ],
      "text/plain": [
       "     Pclass   Sex   Age  SibSp  Parch\n",
       "456       1  male  65.0      0      0\n",
       "351       1  male  28.0      0      0\n",
       "173       3  male  21.0      0      0\n",
       "671       1  male  31.0      1      0\n",
       "836       3  male  21.0      0      0"
      ]
     },
     "execution_count": 85,
     "metadata": {},
     "output_type": "execute_result"
    }
   ],
   "source": [
    "## Getting the DF without (Survived) Column, --> Assignning the variable name to be (X_train)\n",
    "X_train.head()\n"
   ]
  },
  {
   "cell_type": "markdown",
   "id": "a1e17419",
   "metadata": {},
   "source": [
    "### `We want to map the Categotical Columns to be numerical`\n",
    "* `Example : for (Sex) column, we want 'male' to be 1, 'female' to be 0`\n",
    "* `for (Embarked) column, we want S to be 0, C to be 1, Q to be 2`"
   ]
  },
  {
   "cell_type": "code",
   "execution_count": 86,
   "id": "9707ec94",
   "metadata": {},
   "outputs": [],
   "source": [
    "## Creating the two dictionary, each key with its value we want to replace with\n",
    "sex_dict = {'male': 1, 'female': 0}\n",
    "embarked_dict = {'S': 0, 'C': 1, 'Q': 2}"
   ]
  },
  {
   "cell_type": "code",
   "execution_count": 87,
   "id": "2d63945e",
   "metadata": {},
   "outputs": [
    {
     "data": {
      "text/html": [
       "<div>\n",
       "<style scoped>\n",
       "    .dataframe tbody tr th:only-of-type {\n",
       "        vertical-align: middle;\n",
       "    }\n",
       "\n",
       "    .dataframe tbody tr th {\n",
       "        vertical-align: top;\n",
       "    }\n",
       "\n",
       "    .dataframe thead th {\n",
       "        text-align: right;\n",
       "    }\n",
       "</style>\n",
       "<table border=\"1\" class=\"dataframe\">\n",
       "  <thead>\n",
       "    <tr style=\"text-align: right;\">\n",
       "      <th></th>\n",
       "      <th>Pclass</th>\n",
       "      <th>Sex</th>\n",
       "      <th>Age</th>\n",
       "      <th>SibSp</th>\n",
       "      <th>Parch</th>\n",
       "    </tr>\n",
       "  </thead>\n",
       "  <tbody>\n",
       "    <tr>\n",
       "      <th>456</th>\n",
       "      <td>1</td>\n",
       "      <td>1</td>\n",
       "      <td>65.0</td>\n",
       "      <td>0</td>\n",
       "      <td>0</td>\n",
       "    </tr>\n",
       "    <tr>\n",
       "      <th>351</th>\n",
       "      <td>1</td>\n",
       "      <td>1</td>\n",
       "      <td>28.0</td>\n",
       "      <td>0</td>\n",
       "      <td>0</td>\n",
       "    </tr>\n",
       "    <tr>\n",
       "      <th>173</th>\n",
       "      <td>3</td>\n",
       "      <td>1</td>\n",
       "      <td>21.0</td>\n",
       "      <td>0</td>\n",
       "      <td>0</td>\n",
       "    </tr>\n",
       "    <tr>\n",
       "      <th>671</th>\n",
       "      <td>1</td>\n",
       "      <td>1</td>\n",
       "      <td>31.0</td>\n",
       "      <td>1</td>\n",
       "      <td>0</td>\n",
       "    </tr>\n",
       "    <tr>\n",
       "      <th>836</th>\n",
       "      <td>3</td>\n",
       "      <td>1</td>\n",
       "      <td>21.0</td>\n",
       "      <td>0</td>\n",
       "      <td>0</td>\n",
       "    </tr>\n",
       "  </tbody>\n",
       "</table>\n",
       "</div>"
      ],
      "text/plain": [
       "     Pclass  Sex   Age  SibSp  Parch\n",
       "456       1    1  65.0      0      0\n",
       "351       1    1  28.0      0      0\n",
       "173       3    1  21.0      0      0\n",
       "671       1    1  31.0      1      0\n",
       "836       3    1  21.0      0      0"
      ]
     },
     "execution_count": 87,
     "metadata": {},
     "output_type": "execute_result"
    }
   ],
   "source": [
    "## mapping function with required dictionary\n",
    "## we override the old column with the new column which is mapped\n",
    "X_train['Sex'] = X_train['Sex'].map(sex_dict)   \n",
    "\n",
    "X_train.head() #Exactly what I want"
   ]
  },
  {
   "cell_type": "markdown",
   "id": "db7c8bb0",
   "metadata": {},
   "source": [
    "X_train['Embarked'] = X_train['Embarked'].replace({'S': 0, 'C': 1, 'Q': 2} )\n",
    "X_train.head()"
   ]
  },
  {
   "cell_type": "code",
   "execution_count": 88,
   "id": "b36d6ab5",
   "metadata": {},
   "outputs": [
    {
     "data": {
      "text/html": [
       "<div>\n",
       "<style scoped>\n",
       "    .dataframe tbody tr th:only-of-type {\n",
       "        vertical-align: middle;\n",
       "    }\n",
       "\n",
       "    .dataframe tbody tr th {\n",
       "        vertical-align: top;\n",
       "    }\n",
       "\n",
       "    .dataframe thead th {\n",
       "        text-align: right;\n",
       "    }\n",
       "</style>\n",
       "<table border=\"1\" class=\"dataframe\">\n",
       "  <thead>\n",
       "    <tr style=\"text-align: right;\">\n",
       "      <th></th>\n",
       "      <th>Pclass</th>\n",
       "      <th>Sex</th>\n",
       "      <th>Age</th>\n",
       "      <th>SibSp</th>\n",
       "      <th>Parch</th>\n",
       "    </tr>\n",
       "  </thead>\n",
       "  <tbody>\n",
       "    <tr>\n",
       "      <th>456</th>\n",
       "      <td>1</td>\n",
       "      <td>1</td>\n",
       "      <td>65.0</td>\n",
       "      <td>0</td>\n",
       "      <td>0</td>\n",
       "    </tr>\n",
       "    <tr>\n",
       "      <th>351</th>\n",
       "      <td>1</td>\n",
       "      <td>1</td>\n",
       "      <td>28.0</td>\n",
       "      <td>0</td>\n",
       "      <td>0</td>\n",
       "    </tr>\n",
       "    <tr>\n",
       "      <th>173</th>\n",
       "      <td>3</td>\n",
       "      <td>1</td>\n",
       "      <td>21.0</td>\n",
       "      <td>0</td>\n",
       "      <td>0</td>\n",
       "    </tr>\n",
       "    <tr>\n",
       "      <th>671</th>\n",
       "      <td>1</td>\n",
       "      <td>1</td>\n",
       "      <td>31.0</td>\n",
       "      <td>1</td>\n",
       "      <td>0</td>\n",
       "    </tr>\n",
       "    <tr>\n",
       "      <th>836</th>\n",
       "      <td>3</td>\n",
       "      <td>1</td>\n",
       "      <td>21.0</td>\n",
       "      <td>0</td>\n",
       "      <td>0</td>\n",
       "    </tr>\n",
       "  </tbody>\n",
       "</table>\n",
       "</div>"
      ],
      "text/plain": [
       "     Pclass  Sex   Age  SibSp  Parch\n",
       "456       1    1  65.0      0      0\n",
       "351       1    1  28.0      0      0\n",
       "173       3    1  21.0      0      0\n",
       "671       1    1  31.0      1      0\n",
       "836       3    1  21.0      0      0"
      ]
     },
     "execution_count": 88,
     "metadata": {},
     "output_type": "execute_result"
    }
   ],
   "source": [
    "X_train.head()"
   ]
  },
  {
   "cell_type": "code",
   "execution_count": 89,
   "id": "b7599061",
   "metadata": {},
   "outputs": [
    {
     "data": {
      "text/plain": [
       "456    0\n",
       "351    0\n",
       "173    0\n",
       "671    0\n",
       "836    0\n",
       "Name: Survived, dtype: int64"
      ]
     },
     "execution_count": 89,
     "metadata": {},
     "output_type": "execute_result"
    }
   ],
   "source": [
    "y_train.head()"
   ]
  },
  {
   "cell_type": "code",
   "execution_count": 90,
   "id": "a04225e0",
   "metadata": {},
   "outputs": [],
   "source": [
    "std = StandardScaler()\n",
    "X_train_sta = std.fit_transform(X_train)"
   ]
  },
  {
   "cell_type": "markdown",
   "id": "259c41cd",
   "metadata": {},
   "source": [
    "# ` Splitting Data into Train , Test and Validation`"
   ]
  },
  {
   "cell_type": "code",
   "execution_count": 93,
   "id": "22fdd9e9",
   "metadata": {},
   "outputs": [],
   "source": [
    "X_train_full , X_test , y_train_full , y_test = train_test_split(X_train_sta,y_train ,test_size=0.15)\n",
    "X_train_final , X_valid , y_train_final , y_valid = train_test_split(X_train_full,y_train_full ,test_size=0.25)"
   ]
  },
  {
   "cell_type": "code",
   "execution_count": 94,
   "id": "26fc3053",
   "metadata": {},
   "outputs": [
    {
     "name": "stdout",
     "output_type": "stream",
     "text": [
      "567 190 134\n",
      "567 190 134\n"
     ]
    }
   ],
   "source": [
    "print(len(X_train_final), len(X_valid) , len(X_test))\n",
    "print(len(y_train_final), len(y_valid) , len(y_test))"
   ]
  },
  {
   "cell_type": "markdown",
   "id": "0d1138a2",
   "metadata": {},
   "source": [
    "# `Machine Learning `"
   ]
  },
  {
   "cell_type": "markdown",
   "id": "5a38fd1c",
   "metadata": {},
   "source": [
    "# `KNN `"
   ]
  },
  {
   "cell_type": "code",
   "execution_count": 106,
   "id": "c5a5d0a0",
   "metadata": {},
   "outputs": [
    {
     "name": "stdout",
     "output_type": "stream",
     "text": [
      "Train Accuracy Score -->  0.8253968253968254\n",
      "Validition Accuracy Score -->  0.8631578947368421\n",
      "Test Accuracy Score -->  0.8656716417910447\n"
     ]
    }
   ],
   "source": [
    "knn = KNeighborsClassifier(n_neighbors = 6 )\n",
    "knn.fit(X_train_final , y_train_final)\n",
    "\n",
    "y_pred_train_knn = knn.predict(X_train_final)\n",
    "print('Train Accuracy Score --> ',accuracy_score(y_train_final , y_pred_train_knn))\n",
    "\n",
    "y_pred_valid_knn = knn.predict(X_valid)\n",
    "print('Validition Accuracy Score --> ',accuracy_score(y_valid , y_pred_valid_knn))\n",
    "\n",
    "y_pred_test_knn = knn.predict(X_test)\n",
    "print('Test Accuracy Score --> ',accuracy_score(y_test , y_pred_test_knn))"
   ]
  },
  {
   "cell_type": "markdown",
   "id": "78081c23",
   "metadata": {},
   "source": [
    "# `Descion Tree`"
   ]
  },
  {
   "cell_type": "code",
   "execution_count": 107,
   "id": "857cff22",
   "metadata": {},
   "outputs": [
    {
     "name": "stdout",
     "output_type": "stream",
     "text": [
      "Train Accuracy Score -->  0.8077601410934744\n",
      "Validition Accuracy Score -->  0.8315789473684211\n",
      "Test Accuracy Score -->  0.8507462686567164\n"
     ]
    }
   ],
   "source": [
    "dsc = DecisionTreeClassifier(criterion='gini'  ,min_samples_split= 10\n",
    "                             , min_samples_leaf = 14 , random_state = 12   )\n",
    "dsc.fit(X_train_final , y_train_final)\n",
    "\n",
    "y_pred_train_dsc = dsc.predict(X_train_final)\n",
    "print('Train Accuracy Score --> ',accuracy_score(y_train_final , y_pred_train_dsc))\n",
    "\n",
    "y_pred_valid_dsc = dsc.predict(X_valid)\n",
    "print('Validition Accuracy Score --> ',accuracy_score(y_valid , y_pred_valid_dsc))\n",
    "\n",
    "y_pred_test_dsc = dsc.predict(X_test)\n",
    "print('Test Accuracy Score --> ',accuracy_score(y_test , y_pred_test_dsc))"
   ]
  },
  {
   "cell_type": "code",
   "execution_count": 32,
   "id": "9bebd347",
   "metadata": {},
   "outputs": [
    {
     "name": "stdout",
     "output_type": "stream",
     "text": [
      "Train Accuracy Score -->  0.8148148148148148\n"
     ]
    }
   ],
   "source": [
    "y_pred_tree = cross_val_predict(estimator=dsc, X=X_train_final, y=y_train_final, cv=5, n_jobs=-1, method='predict' )\n",
    "print('Train Accuracy Score --> ',accuracy_score(y_train_final , y_pred_tree))"
   ]
  },
  {
   "cell_type": "markdown",
   "id": "988a24d5",
   "metadata": {},
   "source": [
    "# `SVM` "
   ]
  },
  {
   "cell_type": "code",
   "execution_count": 33,
   "id": "6a924596",
   "metadata": {},
   "outputs": [
    {
     "name": "stdout",
     "output_type": "stream",
     "text": [
      "Train Accuracy Score -->  0.8112874779541446\n",
      "Validition Accuracy Score -->  0.7473684210526316\n",
      "Test Accuracy Score -->  0.7388059701492538\n"
     ]
    }
   ],
   "source": [
    "svm = SVC(C=1.0, kernel='linear', degree = 9, tol= 0.000001 , random_state= 12 ,max_iter=-1)\n",
    "svm.fit(X_train_final , y_train_final)\n",
    "\n",
    "y_pred_train_svm = svm.predict(X_train_final)\n",
    "print('Train Accuracy Score --> ',accuracy_score(y_train_final , y_pred_train_svm))\n",
    "\n",
    "y_pred_valid_svm = svm.predict(X_valid)\n",
    "print('Validition Accuracy Score --> ',accuracy_score(y_valid , y_pred_valid_svm))\n",
    "\n",
    "y_pred_test_svm = svm.predict(X_test)\n",
    "print('Test Accuracy Score --> ',accuracy_score(y_test , y_pred_test_svm))"
   ]
  },
  {
   "cell_type": "markdown",
   "id": "3c5564fb",
   "metadata": {},
   "source": [
    "# `Logistic Regression`"
   ]
  },
  {
   "cell_type": "code",
   "execution_count": 148,
   "id": "c630daa7",
   "metadata": {},
   "outputs": [
    {
     "name": "stderr",
     "output_type": "stream",
     "text": [
      "C:\\Users\\Osama Sabry\\anaconda3\\Lib\\site-packages\\xgboost\\core.py:158: UserWarning: [14:58:00] WARNING: C:\\buildkite-agent\\builds\\buildkite-windows-cpu-autoscaling-group-i-06abd128ca6c1688d-1\\xgboost\\xgboost-ci-windows\\src\\learner.cc:740: \n",
      "Parameters: { \"use_label_encoder\" } are not used.\n",
      "\n",
      "  warnings.warn(smsg, UserWarning)\n"
     ]
    },
    {
     "name": "stdout",
     "output_type": "stream",
     "text": [
      "Train Accuracy Score -->  0.9171075837742504\n",
      "Valid Accuracy Score --> 0.8473684210526315\n",
      "Test Accuracy Score --> 0.881578947368421\n"
     ]
    }
   ],
   "source": [
    "vtc = VotingClassifier(estimators=[('clf' ,clf) ,('clff' ,clff),('clfff' ,clfff),('clffff' ,clffff),('xg',xgb_clf),('ada',ada)] , voting='hard')\n",
    "vtc.fit(X_train_final , y_train_final)\n",
    "\n",
    "y_pred_train_vtc = vtc.predict(X_train_final)\n",
    "y_pred_valid_vtc = vtc.predict(X_valid)\n",
    "y_pred_test_vtc = vtc.predict(X_test)\n",
    "\n",
    "print('Train Accuracy Score --> ',accuracy_score(y_train_final , y_pred_train_vtc))\n",
    "print('Valid Accuracy Score -->',accuracy_score(y_valid , y_pred_valid_vtc))\n",
    "print('Test Accuracy Score -->',accuracy_score(y_test , y_pred_test_vtc))\n",
    "\n"
   ]
  },
  {
   "cell_type": "markdown",
   "id": "6abbffcb",
   "metadata": {},
   "source": [
    "# `RandomForestClassifier`"
   ]
  },
  {
   "cell_type": "code",
   "execution_count": 111,
   "id": "377dfe1c",
   "metadata": {},
   "outputs": [
    {
     "name": "stdout",
     "output_type": "stream",
     "text": [
      "Train Accuracy Score -->  0.9135802469135802\n",
      "Valid Accuracy Score --> 0.8473684210526315\n",
      "Test Accuracy Score --> 0.881578947368421\n"
     ]
    }
   ],
   "source": [
    "clf = RandomForestClassifier(n_estimators=1000, max_depth=50, max_leaf_nodes=70, \n",
    "                                    criterion='entropy', max_features=1.0, max_samples=0.7 , random_state=12)\n",
    "clf.fit(X_train_final, y_train_final)\n",
    "\n",
    "y_pred_train_clf = clf.predict(X_train_final)\n",
    "y_pred_valid_clf = clf.predict(X_valid)\n",
    "y_pred_test_clf = clf.predict(X_test)\n",
    "\n",
    "print('Train Accuracy Score --> ',accuracy_score(y_train_final , y_pred_train_clf))\n",
    "print('Valid Accuracy Score -->',accuracy_score(y_valid , y_pred_valid_clf))\n",
    "print('Test Accuracy Score -->',accuracy_score(y_test , y_pred_test_clf))\n"
   ]
  },
  {
   "cell_type": "code",
   "execution_count": 112,
   "id": "3168eeeb",
   "metadata": {},
   "outputs": [
    {
     "name": "stdout",
     "output_type": "stream",
     "text": [
      "Train Accuracy Score -->  0.9171075837742504\n",
      "Valid Accuracy Score --> 0.8421052631578947\n",
      "Test Accuracy Score --> 0.875\n"
     ]
    }
   ],
   "source": [
    "clff = RandomForestClassifier(n_estimators=1000, \n",
    "                                    criterion='gini', max_features=1.0, max_samples=0.7 , random_state=12)\n",
    "clff.fit(X_train_final, y_train_final)\n",
    "\n",
    "y_pred_train_clf = clff.predict(X_train_final)\n",
    "y_pred_valid_clf = clff.predict(X_valid)\n",
    "y_pred_test_clf = clff.predict(X_test)\n",
    "\n",
    "print('Train Accuracy Score --> ',accuracy_score(y_train_final , y_pred_train_clf))\n",
    "print('Valid Accuracy Score -->',accuracy_score(y_valid , y_pred_valid_clf))\n",
    "print('Test Accuracy Score -->',accuracy_score(y_test , y_pred_test_clf))\n"
   ]
  },
  {
   "cell_type": "code",
   "execution_count": 113,
   "id": "1e0fa7d1",
   "metadata": {},
   "outputs": [
    {
     "name": "stdout",
     "output_type": "stream",
     "text": [
      "Train Accuracy Score -->  0.9171075837742504\n",
      "Valid Accuracy Score --> 0.8473684210526315\n",
      "Test Accuracy Score --> 0.881578947368421\n"
     ]
    }
   ],
   "source": [
    "clfff = RandomForestClassifier(n_estimators=1000,  \n",
    "                                    criterion='log_loss', max_features=1.0, max_samples=0.7 , random_state=12)\n",
    "clfff.fit(X_train_final, y_train_final)\n",
    "\n",
    "y_pred_train_clf = clfff.predict(X_train_final)\n",
    "y_pred_valid_clf = clfff.predict(X_valid)\n",
    "y_pred_test_clf = clfff.predict(X_test)\n",
    "\n",
    "print('Train Accuracy Score --> ',accuracy_score(y_train_final , y_pred_train_clf))\n",
    "print('Valid Accuracy Score -->',accuracy_score(y_valid , y_pred_valid_clf))\n",
    "print('Test Accuracy Score -->',accuracy_score(y_test , y_pred_test_clf))\n"
   ]
  },
  {
   "cell_type": "code",
   "execution_count": 114,
   "id": "cfe308f9",
   "metadata": {},
   "outputs": [
    {
     "name": "stdout",
     "output_type": "stream",
     "text": [
      "Train Accuracy Score -->  0.9206349206349206\n",
      "Valid Accuracy Score --> 0.8473684210526315\n",
      "Test Accuracy Score --> 0.8881578947368421\n"
     ]
    }
   ],
   "source": [
    "clffff = RandomForestClassifier(n_estimators=10000,\n",
    "                                    criterion='entropy', max_features=1.0, max_samples=0.7 , random_state=12)\n",
    "clffff.fit(X_train_final, y_train_final)\n",
    "\n",
    "y_pred_train_clf = clffff.predict(X_train_final)\n",
    "y_pred_valid_clf = clffff.predict(X_valid)\n",
    "y_pred_test_clf = clffff.predict(X_test)\n",
    "\n",
    "print('Train Accuracy Score --> ',accuracy_score(y_train_final , y_pred_train_clf))\n",
    "print('Valid Accuracy Score -->',accuracy_score(y_valid , y_pred_valid_clf))\n",
    "print('Test Accuracy Score -->',accuracy_score(y_test , y_pred_test_clf))\n"
   ]
  },
  {
   "cell_type": "markdown",
   "id": "f4129c9c",
   "metadata": {},
   "source": [
    "# `AdaBoost`"
   ]
  },
  {
   "cell_type": "code",
   "execution_count": 116,
   "id": "c4f9d336",
   "metadata": {},
   "outputs": [
    {
     "name": "stdout",
     "output_type": "stream",
     "text": [
      "Train Accuracy Score -->  0.8783068783068783\n",
      "Valid Accuracy Score --> 0.8526315789473684\n",
      "Test Accuracy Score --> 0.868421052631579\n"
     ]
    }
   ],
   "source": [
    "ada  = AdaBoostClassifier(n_estimators=8,estimator=dsc,\n",
    "    learning_rate=1)\n",
    "ada.fit(X_train_final, y_train_final)\n",
    "y_pred_train_ada = ada.predict(X_train_final)\n",
    "y_pred_valid_ada = ada.predict(X_valid)\n",
    "y_pred_test_ada = ada.predict(X_test)\n",
    "\n",
    "print('Train Accuracy Score --> ',accuracy_score(y_train_final , y_pred_train_ada))\n",
    "print('Valid Accuracy Score -->',accuracy_score(y_valid , y_pred_valid_ada))\n",
    "print('Test Accuracy Score -->',accuracy_score(y_test , y_pred_test_ada))\n"
   ]
  },
  {
   "cell_type": "markdown",
   "id": "eee6b16a",
   "metadata": {},
   "source": [
    "# `XGBoost`"
   ]
  },
  {
   "cell_type": "code",
   "execution_count": 117,
   "id": "27c08f65",
   "metadata": {},
   "outputs": [
    {
     "name": "stderr",
     "output_type": "stream",
     "text": [
      "C:\\Users\\Osama Sabry\\anaconda3\\Lib\\site-packages\\xgboost\\core.py:158: UserWarning: [14:39:47] WARNING: C:\\buildkite-agent\\builds\\buildkite-windows-cpu-autoscaling-group-i-06abd128ca6c1688d-1\\xgboost\\xgboost-ci-windows\\src\\learner.cc:740: \n",
      "Parameters: { \"use_label_encoder\" } are not used.\n",
      "\n",
      "  warnings.warn(smsg, UserWarning)\n"
     ]
    },
    {
     "data": {
      "text/html": [
       "<style>#sk-container-id-1 {color: black;}#sk-container-id-1 pre{padding: 0;}#sk-container-id-1 div.sk-toggleable {background-color: white;}#sk-container-id-1 label.sk-toggleable__label {cursor: pointer;display: block;width: 100%;margin-bottom: 0;padding: 0.3em;box-sizing: border-box;text-align: center;}#sk-container-id-1 label.sk-toggleable__label-arrow:before {content: \"▸\";float: left;margin-right: 0.25em;color: #696969;}#sk-container-id-1 label.sk-toggleable__label-arrow:hover:before {color: black;}#sk-container-id-1 div.sk-estimator:hover label.sk-toggleable__label-arrow:before {color: black;}#sk-container-id-1 div.sk-toggleable__content {max-height: 0;max-width: 0;overflow: hidden;text-align: left;background-color: #f0f8ff;}#sk-container-id-1 div.sk-toggleable__content pre {margin: 0.2em;color: black;border-radius: 0.25em;background-color: #f0f8ff;}#sk-container-id-1 input.sk-toggleable__control:checked~div.sk-toggleable__content {max-height: 200px;max-width: 100%;overflow: auto;}#sk-container-id-1 input.sk-toggleable__control:checked~label.sk-toggleable__label-arrow:before {content: \"▾\";}#sk-container-id-1 div.sk-estimator input.sk-toggleable__control:checked~label.sk-toggleable__label {background-color: #d4ebff;}#sk-container-id-1 div.sk-label input.sk-toggleable__control:checked~label.sk-toggleable__label {background-color: #d4ebff;}#sk-container-id-1 input.sk-hidden--visually {border: 0;clip: rect(1px 1px 1px 1px);clip: rect(1px, 1px, 1px, 1px);height: 1px;margin: -1px;overflow: hidden;padding: 0;position: absolute;width: 1px;}#sk-container-id-1 div.sk-estimator {font-family: monospace;background-color: #f0f8ff;border: 1px dotted black;border-radius: 0.25em;box-sizing: border-box;margin-bottom: 0.5em;}#sk-container-id-1 div.sk-estimator:hover {background-color: #d4ebff;}#sk-container-id-1 div.sk-parallel-item::after {content: \"\";width: 100%;border-bottom: 1px solid gray;flex-grow: 1;}#sk-container-id-1 div.sk-label:hover label.sk-toggleable__label {background-color: #d4ebff;}#sk-container-id-1 div.sk-serial::before {content: \"\";position: absolute;border-left: 1px solid gray;box-sizing: border-box;top: 0;bottom: 0;left: 50%;z-index: 0;}#sk-container-id-1 div.sk-serial {display: flex;flex-direction: column;align-items: center;background-color: white;padding-right: 0.2em;padding-left: 0.2em;position: relative;}#sk-container-id-1 div.sk-item {position: relative;z-index: 1;}#sk-container-id-1 div.sk-parallel {display: flex;align-items: stretch;justify-content: center;background-color: white;position: relative;}#sk-container-id-1 div.sk-item::before, #sk-container-id-1 div.sk-parallel-item::before {content: \"\";position: absolute;border-left: 1px solid gray;box-sizing: border-box;top: 0;bottom: 0;left: 50%;z-index: -1;}#sk-container-id-1 div.sk-parallel-item {display: flex;flex-direction: column;z-index: 1;position: relative;background-color: white;}#sk-container-id-1 div.sk-parallel-item:first-child::after {align-self: flex-end;width: 50%;}#sk-container-id-1 div.sk-parallel-item:last-child::after {align-self: flex-start;width: 50%;}#sk-container-id-1 div.sk-parallel-item:only-child::after {width: 0;}#sk-container-id-1 div.sk-dashed-wrapped {border: 1px dashed gray;margin: 0 0.4em 0.5em 0.4em;box-sizing: border-box;padding-bottom: 0.4em;background-color: white;}#sk-container-id-1 div.sk-label label {font-family: monospace;font-weight: bold;display: inline-block;line-height: 1.2em;}#sk-container-id-1 div.sk-label-container {text-align: center;}#sk-container-id-1 div.sk-container {/* jupyter's `normalize.less` sets `[hidden] { display: none; }` but bootstrap.min.css set `[hidden] { display: none !important; }` so we also need the `!important` here to be able to override the default hidden behavior on the sphinx rendered scikit-learn.org. See: https://github.com/scikit-learn/scikit-learn/issues/21755 */display: inline-block !important;position: relative;}#sk-container-id-1 div.sk-text-repr-fallback {display: none;}</style><div id=\"sk-container-id-1\" class=\"sk-top-container\"><div class=\"sk-text-repr-fallback\"><pre>XGBClassifier(base_score=None, booster=None, callbacks=None,\n",
       "              colsample_bylevel=None, colsample_bynode=None,\n",
       "              colsample_bytree=None, device=None, early_stopping_rounds=None,\n",
       "              enable_categorical=False, eval_metric=None, feature_types=None,\n",
       "              gamma=None, grow_policy=None, importance_type=None,\n",
       "              interaction_constraints=None, learning_rate=0.01, max_bin=None,\n",
       "              max_cat_threshold=None, max_cat_to_onehot=None,\n",
       "              max_delta_step=None, max_depth=None, max_leaves=None,\n",
       "              min_child_weight=None, missing=nan, monotone_constraints=None,\n",
       "              multi_strategy=None, n_estimators=5000, n_jobs=None,\n",
       "              num_parallel_tree=None, random_state=None, ...)</pre><b>In a Jupyter environment, please rerun this cell to show the HTML representation or trust the notebook. <br />On GitHub, the HTML representation is unable to render, please try loading this page with nbviewer.org.</b></div><div class=\"sk-container\" hidden><div class=\"sk-item\"><div class=\"sk-estimator sk-toggleable\"><input class=\"sk-toggleable__control sk-hidden--visually\" id=\"sk-estimator-id-1\" type=\"checkbox\" checked><label for=\"sk-estimator-id-1\" class=\"sk-toggleable__label sk-toggleable__label-arrow\">XGBClassifier</label><div class=\"sk-toggleable__content\"><pre>XGBClassifier(base_score=None, booster=None, callbacks=None,\n",
       "              colsample_bylevel=None, colsample_bynode=None,\n",
       "              colsample_bytree=None, device=None, early_stopping_rounds=None,\n",
       "              enable_categorical=False, eval_metric=None, feature_types=None,\n",
       "              gamma=None, grow_policy=None, importance_type=None,\n",
       "              interaction_constraints=None, learning_rate=0.01, max_bin=None,\n",
       "              max_cat_threshold=None, max_cat_to_onehot=None,\n",
       "              max_delta_step=None, max_depth=None, max_leaves=None,\n",
       "              min_child_weight=None, missing=nan, monotone_constraints=None,\n",
       "              multi_strategy=None, n_estimators=5000, n_jobs=None,\n",
       "              num_parallel_tree=None, random_state=None, ...)</pre></div></div></div></div></div>"
      ],
      "text/plain": [
       "XGBClassifier(base_score=None, booster=None, callbacks=None,\n",
       "              colsample_bylevel=None, colsample_bynode=None,\n",
       "              colsample_bytree=None, device=None, early_stopping_rounds=None,\n",
       "              enable_categorical=False, eval_metric=None, feature_types=None,\n",
       "              gamma=None, grow_policy=None, importance_type=None,\n",
       "              interaction_constraints=None, learning_rate=0.01, max_bin=None,\n",
       "              max_cat_threshold=None, max_cat_to_onehot=None,\n",
       "              max_delta_step=None, max_depth=None, max_leaves=None,\n",
       "              min_child_weight=None, missing=nan, monotone_constraints=None,\n",
       "              multi_strategy=None, n_estimators=5000, n_jobs=None,\n",
       "              num_parallel_tree=None, random_state=None, ...)"
      ]
     },
     "execution_count": 117,
     "metadata": {},
     "output_type": "execute_result"
    }
   ],
   "source": [
    "xgb_clf = xgb.XGBClassifier(   \n",
    "                            learning_rate=0.01,           \n",
    "                            n_estimators=5000,             \n",
    "                            use_label_encoder=False,)    \n",
    "xgb_clf.fit(X_train_final, y_train_final)"
   ]
  },
  {
   "cell_type": "code",
   "execution_count": 118,
   "id": "71cff05f",
   "metadata": {},
   "outputs": [
    {
     "name": "stdout",
     "output_type": "stream",
     "text": [
      "Train Accuracy Score -->  0.9153439153439153\n",
      "Valid Accuracy Score --> 0.8631578947368421\n",
      "Test Accuracy Score --> 0.9013157894736842\n"
     ]
    }
   ],
   "source": [
    "y_pred_train_xgb = xgb_clf.predict(X_train_final)\n",
    "y_pred_valid_xgb = xgb_clf.predict(X_valid)\n",
    "y_pred_test_xgb = xgb_clf.predict(X_test)\n",
    "\n",
    "print('Train Accuracy Score --> ',accuracy_score(y_train_final , y_pred_train_xgb))\n",
    "print('Valid Accuracy Score -->',accuracy_score(y_valid , y_pred_valid_xgb))\n",
    "print('Test Accuracy Score -->',accuracy_score(y_test , y_pred_test_xgb))\n"
   ]
  },
  {
   "cell_type": "markdown",
   "id": "46cc89e9",
   "metadata": {},
   "source": [
    "# Done!"
   ]
  }
 ],
 "metadata": {
  "kernelspec": {
   "display_name": "Python 3 (ipykernel)",
   "language": "python",
   "name": "python3"
  },
  "language_info": {
   "codemirror_mode": {
    "name": "ipython",
    "version": 3
   },
   "file_extension": ".py",
   "mimetype": "text/x-python",
   "name": "python",
   "nbconvert_exporter": "python",
   "pygments_lexer": "ipython3",
   "version": "3.11.5"
  }
 },
 "nbformat": 4,
 "nbformat_minor": 5
}
